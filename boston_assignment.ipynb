{
 "cells": [
  {
   "cell_type": "markdown",
   "metadata": {},
   "source": [
    "## Boston Housing Assignment\n",
    "\n",
    "In this assignment you'll be using linear regression to estimate the cost of house in boston, using a well known dataset.\n",
    "\n",
    "Goals:\n",
    "+  Measure the performance of the model I created using $R^{2}$ and MSE\n",
    "> Learn how to use sklearn.metrics.r2_score and sklearn.metrics.mean_squared_error\n",
    "+  Implement a new model using L2 regularization\n",
    "> Use sklearn.linear_model.Ridge or sklearn.linear_model.Lasso \n",
    "+  Get the best model you can by optimizing the regularization parameter.   "
   ]
  },
  {
   "cell_type": "code",
   "execution_count": 2,
   "metadata": {
    "collapsed": false
   },
   "outputs": [],
   "source": [
    "from sklearn import datasets\n",
    "import pandas as pd\n",
    "from sklearn.preprocessing import StandardScaler\n",
    "from sklearn.cross_validation import train_test_split\n",
    "from sklearn.metrics import mean_squared_error\n",
    "from sklearn.metrics import r2_score\n",
    "from sklearn.linear_model import LinearRegression"
   ]
  },
  {
   "cell_type": "code",
   "execution_count": 6,
   "metadata": {
    "collapsed": false
   },
   "outputs": [
    {
     "name": "stdout",
     "output_type": "stream",
     "text": [
      "Boston House Prices dataset\n",
      "\n",
      "Notes\n",
      "------\n",
      "Data Set Characteristics:  \n",
      "\n",
      "    :Number of Instances: 506 \n",
      "\n",
      "    :Number of Attributes: 13 numeric/categorical predictive\n",
      "    \n",
      "    :Median Value (attribute 14) is usually the target\n",
      "\n",
      "    :Attribute Information (in order):\n",
      "        - CRIM     per capita crime rate by town\n",
      "        - ZN       proportion of residential land zoned for lots over 25,000 sq.ft.\n",
      "        - INDUS    proportion of non-retail business acres per town\n",
      "        - CHAS     Charles River dummy variable (= 1 if tract bounds river; 0 otherwise)\n",
      "        - NOX      nitric oxides concentration (parts per 10 million)\n",
      "        - RM       average number of rooms per dwelling\n",
      "        - AGE      proportion of owner-occupied units built prior to 1940\n",
      "        - DIS      weighted distances to five Boston employment centres\n",
      "        - RAD      index of accessibility to radial highways\n",
      "        - TAX      full-value property-tax rate per $10,000\n",
      "        - PTRATIO  pupil-teacher ratio by town\n",
      "        - B        1000(Bk - 0.63)^2 where Bk is the proportion of blacks by town\n",
      "        - LSTAT    % lower status of the population\n",
      "        - MEDV     Median value of owner-occupied homes in $1000's\n",
      "\n",
      "    :Missing Attribute Values: None\n",
      "\n",
      "    :Creator: Harrison, D. and Rubinfeld, D.L.\n",
      "\n",
      "This is a copy of UCI ML housing dataset.\n",
      "http://archive.ics.uci.edu/ml/datasets/Housing\n",
      "\n",
      "\n",
      "This dataset was taken from the StatLib library which is maintained at Carnegie Mellon University.\n",
      "\n",
      "The Boston house-price data of Harrison, D. and Rubinfeld, D.L. 'Hedonic\n",
      "prices and the demand for clean air', J. Environ. Economics & Management,\n",
      "vol.5, 81-102, 1978.   Used in Belsley, Kuh & Welsch, 'Regression diagnostics\n",
      "...', Wiley, 1980.   N.B. Various transformations are used in the table on\n",
      "pages 244-261 of the latter.\n",
      "\n",
      "The Boston house-price data has been used in many machine learning papers that address regression\n",
      "problems.   \n",
      "     \n",
      "**References**\n",
      "\n",
      "   - Belsley, Kuh & Welsch, 'Regression diagnostics: Identifying Influential Data and Sources of Collinearity', Wiley, 1980. 244-261.\n",
      "   - Quinlan,R. (1993). Combining Instance-Based and Model-Based Learning. In Proceedings on the Tenth International Conference of Machine Learning, 236-243, University of Massachusetts, Amherst. Morgan Kaufmann.\n",
      "   - many more! (see http://archive.ics.uci.edu/ml/datasets/Housing)\n",
      "\n"
     ]
    }
   ],
   "source": [
    "bean = datasets.load_boston()\n",
    "print(bean.DESCR)"
   ]
  },
  {
   "cell_type": "code",
   "execution_count": 8,
   "metadata": {
    "collapsed": false
   },
   "outputs": [],
   "source": [
    "def load_boston():\n",
    "    scaler = StandardScaler()\n",
    "    boston = datasets.load_boston()\n",
    "    X=boston.data\n",
    "    y=boston.target\n",
    "    X = scaler.fit_transform(X)\n",
    "    return train_test_split(X,y)\n",
    "    "
   ]
  },
  {
   "cell_type": "code",
   "execution_count": 9,
   "metadata": {
    "collapsed": false
   },
   "outputs": [],
   "source": [
    "X_train, X_test, y_train, y_test = load_boston()"
   ]
  },
  {
   "cell_type": "code",
   "execution_count": 10,
   "metadata": {
    "collapsed": false
   },
   "outputs": [
    {
     "data": {
      "text/plain": [
       "(379, 13)"
      ]
     },
     "execution_count": 10,
     "metadata": {},
     "output_type": "execute_result"
    }
   ],
   "source": [
    "X_train.shape"
   ]
  },
  {
   "cell_type": "markdown",
   "metadata": {},
   "source": [
    "### Fitting a Linear Regression\n",
    "\n",
    "It's as easy as instantiating a new regression object (line 1) and giving your regression object your training data\n",
    "(line 2) by calling .fit(independent variables, dependent variable)\n",
    "\n"
   ]
  },
  {
   "cell_type": "code",
   "execution_count": 12,
   "metadata": {
    "collapsed": false
   },
   "outputs": [
    {
     "data": {
      "text/plain": [
       "LinearRegression(copy_X=True, fit_intercept=True, n_jobs=1, normalize=False)"
      ]
     },
     "execution_count": 12,
     "metadata": {},
     "output_type": "execute_result"
    }
   ],
   "source": [
    "\n",
    "clf = LinearRegression()\n",
    "clf.fit(X_train, y_train)"
   ]
  },
  {
   "cell_type": "markdown",
   "metadata": {},
   "source": [
    "### Making a Prediction\n",
    "X_test is our holdout set of data.  We know the answer (y_test) but the computer does not.   \n",
    "\n",
    "Using the command below, I create a tuple for each observation, where I'm combining the real value (y_test) with\n",
    "the value our regressor predicts (clf.predict(X_test))\n",
    "\n",
    "Use a similiar format to get your r2 and mse metrics working.  Using the [scikit learn api](http://scikit-learn.org/stable/modules/model_evaluation.html) if you need help!"
   ]
  },
  {
   "cell_type": "code",
   "execution_count": 13,
   "metadata": {
    "collapsed": false
   },
   "outputs": [
    {
     "data": {
      "text/plain": [
       "[(11.0, 13.855446269270821),\n",
       " (10.5, 12.224320592570141),\n",
       " (17.600000000000001, 16.027635010753109),\n",
       " (19.600000000000001, 21.233491688771583),\n",
       " (37.0, 30.821831936077491),\n",
       " (19.600000000000001, 19.883800966514549),\n",
       " (22.899999999999999, 21.245814773331595),\n",
       " (17.899999999999999, 0.18701706595025769),\n",
       " (50.0, 40.745723835182922),\n",
       " (19.399999999999999, 23.612998036006154),\n",
       " (14.300000000000001, 16.807036736090907),\n",
       " (11.9, 6.666062541089806),\n",
       " (9.5999999999999996, 14.306867275961698),\n",
       " (21.399999999999999, 22.48974951155299),\n",
       " (34.899999999999999, 34.783559388138713),\n",
       " (19.199999999999999, 23.273018923943933),\n",
       " (15.6, 20.209969468184678),\n",
       " (21.5, 23.927514423013942),\n",
       " (8.3000000000000007, 12.172870218042673),\n",
       " (22.0, 27.046609621245462),\n",
       " (18.800000000000001, 20.105166514125667),\n",
       " (27.5, 31.510133592068978),\n",
       " (18.600000000000001, 17.512612152351004),\n",
       " (50.0, 43.045377498857157),\n",
       " (43.100000000000001, 36.566694088774256),\n",
       " (21.199999999999999, 21.358769410115777),\n",
       " (28.0, 28.801532504195389),\n",
       " (21.0, 21.269194844735399),\n",
       " (18.199999999999999, 19.590220526136633),\n",
       " (13.800000000000001, -0.76704619873083502),\n",
       " (22.300000000000001, 25.985806245141443),\n",
       " (13.800000000000001, 11.941150050984234),\n",
       " (24.199999999999999, 25.858644744294022),\n",
       " (24.0, 24.814609336180805),\n",
       " (23.0, 22.933307864046682),\n",
       " (35.100000000000001, 34.932999079936174),\n",
       " (36.200000000000003, 28.402767047388046),\n",
       " (16.5, 22.164171153892251),\n",
       " (11.699999999999999, 13.870117373262214),\n",
       " (32.200000000000003, 31.755217790735205),\n",
       " (23.899999999999999, 28.22487302965062),\n",
       " (21.699999999999999, 21.696019307692293),\n",
       " (13.800000000000001, 4.8250751030849912),\n",
       " (10.199999999999999, 5.3545890931315263),\n",
       " (23.100000000000001, 25.750533052041671),\n",
       " (18.5, 13.100373657087937),\n",
       " (38.700000000000003, 35.913666359849501),\n",
       " (28.5, 33.827909629454041),\n",
       " (29.100000000000001, 31.621400358398251),\n",
       " (16.800000000000001, 20.366181961324063),\n",
       " (50.0, 40.12908251019639),\n",
       " (24.800000000000001, 25.761245064156174),\n",
       " (14.6, 8.0919153623159996),\n",
       " (12.1, 17.674772653560265),\n",
       " (23.100000000000001, 25.17692256278108),\n",
       " (17.5, 18.276125573876968),\n",
       " (12.699999999999999, 17.332459855160288),\n",
       " (50.0, 24.158820049681673),\n",
       " (24.100000000000001, 21.206686569821734),\n",
       " (20.300000000000001, 19.046195504471374),\n",
       " (34.700000000000003, 30.857457956678523),\n",
       " (20.100000000000001, 18.068176574044237),\n",
       " (22.600000000000001, 23.01046100342214),\n",
       " (29.100000000000001, 30.381995807140907),\n",
       " (8.6999999999999993, 8.3456383401136982),\n",
       " (13.300000000000001, 13.989061415865777),\n",
       " (23.199999999999999, 21.935724508199257),\n",
       " (20.600000000000001, 22.725801255038721),\n",
       " (31.5, 32.624941425277434),\n",
       " (41.299999999999997, 32.747968008141186),\n",
       " (21.399999999999999, 24.325571686778193),\n",
       " (21.699999999999999, 20.627973480308842),\n",
       " (22.199999999999999, 25.732154367196426),\n",
       " (8.5, 6.6682019824297942),\n",
       " (19.699999999999999, 21.074959741379946),\n",
       " (25.300000000000001, 25.759071706499235),\n",
       " (16.399999999999999, 18.878773354212534),\n",
       " (20.0, 15.986404224085533),\n",
       " (23.899999999999999, 26.933126316643268),\n",
       " (28.399999999999999, 28.537528191766462),\n",
       " (16.199999999999999, 15.391430923514021),\n",
       " (22.0, 28.596750311145094),\n",
       " (21.5, 20.920314658239374),\n",
       " (50.0, 40.468973574165652),\n",
       " (24.300000000000001, 20.360768392358327),\n",
       " (21.0, 23.27042886366328),\n",
       " (24.399999999999999, 23.831204270810922),\n",
       " (21.800000000000001, 20.754848052519851),\n",
       " (14.1, 17.04296716017658),\n",
       " (16.300000000000001, 10.571505135546904),\n",
       " (19.800000000000001, 22.577576194984356),\n",
       " (5.0, 7.4340713864504302),\n",
       " (23.699999999999999, 26.615927763321924),\n",
       " (20.0, 20.419262261438647),\n",
       " (24.699999999999999, 25.157582823207498),\n",
       " (23.100000000000001, 21.442562297511408),\n",
       " (20.0, 22.197818974788714),\n",
       " (27.899999999999999, 32.196089623052345),\n",
       " (13.199999999999999, 8.8786447676517568),\n",
       " (41.700000000000003, 38.198308615850031),\n",
       " (15.300000000000001, 19.838877151932184),\n",
       " (19.0, 21.685177937122223),\n",
       " (16.100000000000001, 18.231296961725725),\n",
       " (23.100000000000001, 9.4280351927902597),\n",
       " (26.5, 25.987185595361243),\n",
       " (18.5, 24.750094460834891),\n",
       " (29.0, 31.228666260162285),\n",
       " (36.200000000000003, 27.417407435275766),\n",
       " (14.0, 13.845766402236469),\n",
       " (17.399999999999999, 16.210453793295244),\n",
       " (17.199999999999999, 16.128196735846025),\n",
       " (17.800000000000001, 9.4131467047042552),\n",
       " (19.300000000000001, 16.151466581467091),\n",
       " (15.199999999999999, 19.087806533350268),\n",
       " (22.800000000000001, 26.304426419676034),\n",
       " (19.399999999999999, 25.118945991097341),\n",
       " (50.0, 33.95351775131806),\n",
       " (22.899999999999999, 28.921197307431463),\n",
       " (17.800000000000001, 17.357736712439287),\n",
       " (23.199999999999999, 25.309402892080008),\n",
       " (15.0, 18.283769295423273),\n",
       " (18.399999999999999, 18.344668109494588),\n",
       " (19.899999999999999, 17.771008909352098),\n",
       " (36.5, 35.092989436283979),\n",
       " (19.600000000000001, 18.166422424225438),\n",
       " (12.0, 10.404284041186154),\n",
       " (27.5, 24.836018968608037)]"
      ]
     },
     "execution_count": 13,
     "metadata": {},
     "output_type": "execute_result"
    }
   ],
   "source": [
    "list(zip (y_test, clf.predict(X_test)))"
   ]
  },
  {
   "cell_type": "code",
   "execution_count": 17,
   "metadata": {
    "collapsed": false
   },
   "outputs": [
    {
     "data": {
      "text/plain": [
       "26.765303133887741"
      ]
     },
     "execution_count": 17,
     "metadata": {},
     "output_type": "execute_result"
    }
   ],
   "source": [
    "mean_squared_error(y_test, clf.predict(X_test))"
   ]
  },
  {
   "cell_type": "code",
   "execution_count": 151,
   "metadata": {
    "collapsed": false
   },
   "outputs": [
    {
     "data": {
      "text/plain": [
       "0.69855521580790403"
      ]
     },
     "execution_count": 151,
     "metadata": {},
     "output_type": "execute_result"
    }
   ],
   "source": [
    "r2_score(y_test, clf.predict(X_test))"
   ]
  },
  {
   "cell_type": "markdown",
   "metadata": {},
   "source": [
    "Ridge with regularization"
   ]
  },
  {
   "cell_type": "code",
   "execution_count": 168,
   "metadata": {
    "collapsed": true
   },
   "outputs": [],
   "source": [
    "from sklearn.linear_model import RidgeCV"
   ]
  },
  {
   "cell_type": "code",
   "execution_count": 188,
   "metadata": {
    "collapsed": false
   },
   "outputs": [
    {
     "data": {
      "text/plain": [
       "RidgeCV(alphas=(0.1, 1.0, 10.0), cv=None, fit_intercept=True, gcv_mode=None,\n",
       "    normalize=False, scoring=None, store_cv_values=False)"
      ]
     },
     "execution_count": 188,
     "metadata": {},
     "output_type": "execute_result"
    }
   ],
   "source": [
    "ridgeCV = RidgeCV(alphas=(0.1, 1.0, 10.0))\n",
    "ridgeCV.fit(X_train, y_train)"
   ]
  },
  {
   "cell_type": "code",
   "execution_count": 170,
   "metadata": {
    "collapsed": false
   },
   "outputs": [
    {
     "data": {
      "text/plain": [
       "27.213006685870091"
      ]
     },
     "execution_count": 170,
     "metadata": {},
     "output_type": "execute_result"
    }
   ],
   "source": [
    "mean_squared_error(y_test, ridgeCV.predict(X_test))"
   ]
  },
  {
   "cell_type": "code",
   "execution_count": 171,
   "metadata": {
    "collapsed": false
   },
   "outputs": [
    {
     "data": {
      "text/plain": [
       "0.69351294522593998"
      ]
     },
     "execution_count": 171,
     "metadata": {},
     "output_type": "execute_result"
    }
   ],
   "source": [
    "r2_score(y_test, ridgeCV.predict(X_test))"
   ]
  },
  {
   "cell_type": "code",
   "execution_count": 189,
   "metadata": {
    "collapsed": false
   },
   "outputs": [
    {
     "data": {
      "text/plain": [
       "10.0"
      ]
     },
     "execution_count": 189,
     "metadata": {},
     "output_type": "execute_result"
    }
   ],
   "source": [
    "ridgeCV.alpha_"
   ]
  },
  {
   "cell_type": "code",
   "execution_count": 176,
   "metadata": {
    "collapsed": false
   },
   "outputs": [
    {
     "data": {
      "text/plain": [
       "Ridge(alpha=10, copy_X=True, fit_intercept=True, max_iter=None,\n",
       "   normalize=False, random_state=None, solver='auto', tol=0.001)"
      ]
     },
     "execution_count": 176,
     "metadata": {},
     "output_type": "execute_result"
    }
   ],
   "source": [
    "from sklearn.linear_model import Ridge\n",
    "ridge = Ridge(alpha=10)\n",
    "ridge.fit(X_train, y_train)"
   ]
  },
  {
   "cell_type": "code",
   "execution_count": 177,
   "metadata": {
    "collapsed": false
   },
   "outputs": [
    {
     "data": {
      "text/plain": [
       "27.21300668586986"
      ]
     },
     "execution_count": 177,
     "metadata": {},
     "output_type": "execute_result"
    }
   ],
   "source": [
    "mean_squared_error(y_test, ridge.predict(X_test))"
   ]
  },
  {
   "cell_type": "code",
   "execution_count": 178,
   "metadata": {
    "collapsed": false
   },
   "outputs": [
    {
     "data": {
      "text/plain": [
       "0.69351294522594253"
      ]
     },
     "execution_count": 178,
     "metadata": {},
     "output_type": "execute_result"
    }
   ],
   "source": [
    "r2_score(y_test, ridge.predict(X_test))"
   ]
  },
  {
   "cell_type": "markdown",
   "metadata": {},
   "source": [
    "LASSO- Based on the value of Alpha from LassoLarsCV doesn't look like regularization is going to improve the results"
   ]
  },
  {
   "cell_type": "code",
   "execution_count": 181,
   "metadata": {
    "collapsed": false
   },
   "outputs": [
    {
     "data": {
      "text/plain": [
       "LassoLarsCV(copy_X=True, cv=None, eps=2.2204460492503131e-16,\n",
       "      fit_intercept=True, max_iter=500, max_n_alphas=1000, n_jobs=1,\n",
       "      normalize=True, positive=False, precompute='auto', verbose=False)"
      ]
     },
     "execution_count": 181,
     "metadata": {},
     "output_type": "execute_result"
    }
   ],
   "source": [
    "from sklearn.linear_model import LassoLarsCV\n",
    "lassoCV = LassoLarsCV()\n",
    "lassoCV.fit(X_train, y_train)"
   ]
  },
  {
   "cell_type": "code",
   "execution_count": 183,
   "metadata": {
    "collapsed": false
   },
   "outputs": [
    {
     "data": {
      "text/plain": [
       "0.0"
      ]
     },
     "execution_count": 183,
     "metadata": {},
     "output_type": "execute_result"
    }
   ],
   "source": [
    "lassoCV.alpha_"
   ]
  },
  {
   "cell_type": "code",
   "execution_count": 184,
   "metadata": {
    "collapsed": false
   },
   "outputs": [
    {
     "data": {
      "text/plain": [
       "Lasso(alpha=0.0067, copy_X=True, fit_intercept=True, max_iter=1000,\n",
       "   normalize=False, positive=False, precompute=False, random_state=None,\n",
       "   selection='cyclic', tol=0.0001, warm_start=False)"
      ]
     },
     "execution_count": 184,
     "metadata": {},
     "output_type": "execute_result"
    }
   ],
   "source": [
    "from sklearn.linear_model import Lasso\n",
    "lasso = Lasso(alpha=0.0067)\n",
    "lasso.fit(X_train, y_train)"
   ]
  },
  {
   "cell_type": "code",
   "execution_count": 185,
   "metadata": {
    "collapsed": false
   },
   "outputs": [
    {
     "data": {
      "text/plain": [
       "26.822360034062417"
      ]
     },
     "execution_count": 185,
     "metadata": {},
     "output_type": "execute_result"
    }
   ],
   "source": [
    "mean_squared_error(y_test, lasso.predict(X_test))"
   ]
  },
  {
   "cell_type": "code",
   "execution_count": 186,
   "metadata": {
    "collapsed": false
   },
   "outputs": [
    {
     "data": {
      "text/plain": [
       "26.765303133887787"
      ]
     },
     "execution_count": 186,
     "metadata": {},
     "output_type": "execute_result"
    }
   ],
   "source": [
    "mean_squared_error(y_test, lassoCV.predict(X_test))"
   ]
  },
  {
   "cell_type": "code",
   "execution_count": 187,
   "metadata": {
    "collapsed": false
   },
   "outputs": [
    {
     "data": {
      "text/plain": [
       "0.69855521580790358"
      ]
     },
     "execution_count": 187,
     "metadata": {},
     "output_type": "execute_result"
    }
   ],
   "source": [
    "r2_score(y_test, lassoCV.predict(X_test))"
   ]
  },
  {
   "cell_type": "code",
   "execution_count": 119,
   "metadata": {
    "collapsed": false
   },
   "outputs": [
    {
     "data": {
      "text/plain": [
       "0.0067178776013197775"
      ]
     },
     "execution_count": 119,
     "metadata": {},
     "output_type": "execute_result"
    }
   ],
   "source": [
    "lassoCV.alpha_"
   ]
  },
  {
   "cell_type": "code",
   "execution_count": 19,
   "metadata": {
    "collapsed": false
   },
   "outputs": [
    {
     "data": {
      "text/plain": [
       "0.69855521580790403"
      ]
     },
     "execution_count": 19,
     "metadata": {},
     "output_type": "execute_result"
    }
   ],
   "source": [
    "r2_score(y_test, clf.predict(X_test))"
   ]
  }
 ],
 "metadata": {
  "anaconda-cloud": {},
  "kernelspec": {
   "display_name": "Python [default]",
   "language": "python",
   "name": "python3"
  },
  "language_info": {
   "codemirror_mode": {
    "name": "ipython",
    "version": 3
   },
   "file_extension": ".py",
   "mimetype": "text/x-python",
   "name": "python",
   "nbconvert_exporter": "python",
   "pygments_lexer": "ipython3",
   "version": "3.5.2"
  }
 },
 "nbformat": 4,
 "nbformat_minor": 0
}
